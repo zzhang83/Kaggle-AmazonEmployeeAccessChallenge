{
 "cells": [
  {
   "cell_type": "markdown",
   "metadata": {},
   "source": [
    "Link to blog: https://medium.com/@zhiwei_zhang/amazon-employee-access-challenge-cba3fd9bae9a\n",
    "\n",
    "link to final Kaggle Submission:\n",
    "https://github.com/data1030/a6-zzhang83/blob/master/FinalSubmission.csv"
   ]
  },
  {
   "cell_type": "markdown",
   "metadata": {},
   "source": [
    "Final Score : 0.89567"
   ]
  },
  {
   "cell_type": "markdown",
   "metadata": {},
   "source": [
    "<img src=\"score.png\",width=500,height =500>"
   ]
  },
  {
   "cell_type": "code",
   "execution_count": 1,
   "metadata": {},
   "outputs": [
    {
     "name": "stderr",
     "output_type": "stream",
     "text": [
      "/Users/zhiweizhang/anaconda/lib/python3.6/site-packages/sklearn/cross_validation.py:41: DeprecationWarning: This module was deprecated in version 0.18 in favor of the model_selection module into which all the refactored classes and functions are moved. Also note that the interface of the new CV iterators are different from that of this module. This module will be removed in 0.20.\n",
      "  \"This module will be removed in 0.20.\", DeprecationWarning)\n"
     ]
    }
   ],
   "source": [
    "import numpy as np\n",
    "import pandas as pd\n",
    "import matplotlib.pyplot as plt\n",
    "\n",
    "\n",
    "from sklearn.linear_model import LogisticRegression\n",
    "from sklearn.ensemble import RandomForestClassifier\n",
    "from sklearn.ensemble import GradientBoostingClassifier\n",
    "from sklearn.ensemble import VotingClassifier\n",
    "\n",
    "from sklearn.model_selection import RandomizedSearchCV\n",
    "from sklearn import metrics\n",
    "from sklearn.feature_selection import SelectKBest\n",
    "from sklearn.feature_selection import RFECV\n",
    "from sklearn.feature_selection import f_classif\n",
    "from sklearn.model_selection import cross_val_score\n",
    "from sklearn.metrics import roc_curve, auc\n",
    "from sklearn.model_selection import StratifiedKFold\n",
    "from sklearn import (metrics, cross_validation, linear_model, preprocessing)\n",
    "from sklearn.cross_validation import train_test_split\n",
    "from sklearn.feature_selection import SelectFromModel\n",
    "from sklearn.model_selection import cross_val_score, GridSearchCV"
   ]
  },
  {
   "cell_type": "markdown",
   "metadata": {},
   "source": [
    "# Loading dataset and split into features and responses"
   ]
  },
  {
   "cell_type": "code",
   "execution_count": 4,
   "metadata": {
    "collapsed": true
   },
   "outputs": [],
   "source": [
    "train = pd.read_csv('train.csv')\n",
    "test = pd.read_csv('test.csv')\n",
    "train_x = train.iloc[:,1:9]        # drop last column role-code because it is unique to each row\n",
    "train_y = train.iloc[:,0]          # target\n",
    "test_x = test.iloc[:,1:9]          # drop last column                 "
   ]
  },
  {
   "cell_type": "markdown",
   "metadata": {},
   "source": [
    " #  Feature Selection:  \n",
    " Tried Hybrid Feature, One-hot Encoding; Eliminating Unimportant Features; RFECV"
   ]
  },
  {
   "cell_type": "markdown",
   "metadata": {},
   "source": [
    " # Eliminating Unimportant Features:"
   ]
  },
  {
   "cell_type": "code",
   "execution_count": null,
   "metadata": {
    "collapsed": true
   },
   "outputs": [],
   "source": [
    "# does not work well, can't simply drop features.\n",
    "def selectimportance(model, X, k=5):\n",
    "     return X[:,model.feature_importances_.argsort()[::-1][:k]]"
   ]
  },
  {
   "cell_type": "code",
   "execution_count": 7,
   "metadata": {},
   "outputs": [
    {
     "data": {
      "text/plain": [
       "array([1, 1, 2, 1, 1, 1, 1, 3])"
      ]
     },
     "execution_count": 7,
     "metadata": {},
     "output_type": "execute_result"
    }
   ],
   "source": [
    "#******* RFECV with RandomForest\n",
    "# same reason as above, dropping original features leads to worse performance\n",
    "estimator = RandomForestClassifier()\n",
    "selector = RFECV(estimator=estimator, step=1, cv=5, scoring='accuracy')\n",
    "selector.fit(train_x, train_y)\n",
    "selector.ranking_                             \n",
    "# new_x = selector.transform(train_x)  "
   ]
  },
  {
   "cell_type": "markdown",
   "metadata": {},
   "source": [
    " # Hybrid Feature: ROLE_ROLLUP_1 & ROLE_ROLLUP_2"
   ]
  },
  {
   "cell_type": "code",
   "execution_count": 5,
   "metadata": {
    "collapsed": true
   },
   "outputs": [],
   "source": [
    "combined = pd.concat([train_x, test_x])\n",
    "combined['Hybrid'] = (combined['ROLE_ROLLUP_1'] + combined['ROLE_ROLLUP_2'])\n",
    "del combined['ROLE_ROLLUP_1']\n",
    "del combined['ROLE_ROLLUP_2']"
   ]
  },
  {
   "cell_type": "markdown",
   "metadata": {},
   "source": [
    "# One-hot encoding"
   ]
  },
  {
   "cell_type": "code",
   "execution_count": 6,
   "metadata": {
    "collapsed": true
   },
   "outputs": [],
   "source": [
    "# ******* one-hot encoding using pd_dummies   (32769, 16592)\n",
    "X_dummies = pd.get_dummies(combined, columns=combined.columns, drop_first = True)   \n",
    "new_x = X_dummies[:32769]  \n",
    "newtest_x = X_dummies[32769:]                    # update test dataset"
   ]
  },
  {
   "cell_type": "code",
   "execution_count": 7,
   "metadata": {},
   "outputs": [
    {
     "name": "stderr",
     "output_type": "stream",
     "text": [
      "/Users/zhiweizhang/anaconda/lib/python3.6/site-packages/sklearn/feature_selection/univariate_selection.py:113: UserWarning: Features [ 7533  7559  7612 ..., 16460 16462 16465] are constant.\n",
      "  UserWarning)\n",
      "/Users/zhiweizhang/anaconda/lib/python3.6/site-packages/sklearn/feature_selection/univariate_selection.py:114: RuntimeWarning: invalid value encountered in true_divide\n",
      "  f = msb / msw\n"
     ]
    }
   ],
   "source": [
    "# ******* eliminating unimportant features from one hot encoding\n",
    "select = SelectKBest(score_func=f_classif, k = 9000)     # keep 9000\n",
    "fit = select.fit(new_x, train_y)\n",
    "new_x2 = fit.transform(new_x)\n",
    "newtest_x2 = fit.transform(newtest_x)"
   ]
  },
  {
   "cell_type": "markdown",
   "metadata": {},
   "source": [
    "# Logistic Regression"
   ]
  },
  {
   "cell_type": "code",
   "execution_count": 10,
   "metadata": {},
   "outputs": [
    {
     "name": "stdout",
     "output_type": "stream",
     "text": [
      "AUC = 0.521294334691\n"
     ]
    },
    {
     "data": {
      "image/png": "[encoded data removed]",
      "text/plain": [
       "<matplotlib.figure.Figure at 0x1a0cb07908>"
      ]
     },
     "metadata": {},
     "output_type": "display_data"
    }
   ],
   "source": [
    "lr = LogisticRegression()  # initial model with original dataset\n",
    "\n",
    "# ROC plot\n",
    "X_train, X_test, y_train, y_test = train_test_split(train_x, train_y, test_size = 0.3,random_state=0)\n",
    "lr.fit(X_train, y_train)                                 # initial model\n",
    "probs = lr.predict_proba(X_test)\n",
    "preds = probs[:,1]\n",
    "fpr, tpr, threshold = metrics.roc_curve(y_test, preds)\n",
    "roc_auc = metrics.auc(fpr, tpr)\n",
    "print('AUC =',roc_auc)   # 0.521294334691\n",
    "# method I: plt\n",
    "import matplotlib.pyplot as plt\n",
    "plt.title('Receiver Operating Characteristic')\n",
    "plt.plot(fpr, tpr, 'b', label = 'AUC = %0.2f' % roc_auc)\n",
    "plt.legend(loc = 'lower right')\n",
    "plt.plot([0, 1], [0, 1],'r--')\n",
    "plt.xlim([0, 1])\n",
    "plt.ylim([0, 1])\n",
    "plt.ylabel('True Positive Rate')\n",
    "plt.xlabel('False Positive Rate')\n",
    "plt.show()"
   ]
  },
  {
   "cell_type": "code",
   "execution_count": null,
   "metadata": {
    "collapsed": true
   },
   "outputs": [],
   "source": [
    "lr = LogisticRegression()\n",
    "params = {'C':[1.5, 2, 2.5, 3, 3.5, 4, 4.5]}\n",
    "lrgrid = GridSearchCV(estimator = lr, param_grid = params, cv=5, scoring = 'accuracy',return_train_score=True)\n",
    "lrgrid.fit(new_x2,train_y.values)"
   ]
  },
  {
   "cell_type": "code",
   "execution_count": 15,
   "metadata": {},
   "outputs": [
    {
     "name": "stdout",
     "output_type": "stream",
     "text": [
      "{'C': 3.5}\n"
     ]
    }
   ],
   "source": [
    "lrgrid.best_params_"
   ]
  },
  {
   "cell_type": "code",
   "execution_count": 58,
   "metadata": {},
   "outputs": [
    {
     "data": {
      "text/plain": [
       "0.87897722872753992"
      ]
     },
     "execution_count": 58,
     "metadata": {},
     "output_type": "execute_result"
    }
   ],
   "source": [
    "# fit model on new dataframe from one-hot encoding\n",
    "lr = LogisticRegression(C=3.5)\n",
    "score = cross_val_score(lrmodel,new_x2,train_y, cv = 10, scoring = 'roc_auc')      \n",
    "score.mean()    # 0.87897722872753992\n",
    "\n",
    "# predict using trained logistic model\n",
    "lrmodel = lr.fit(new_x2,train_y)\n",
    "probs = lrmodel.predict_proba(newtest_x2)\n",
    "preds_logistic = probs[:,1]"
   ]
  },
  {
   "cell_type": "code",
   "execution_count": 59,
   "metadata": {},
   "outputs": [
    {
     "name": "stdout",
     "output_type": "stream",
     "text": [
      "AUC = 0.881069428452\n"
     ]
    },
    {
     "data": {
      "image/png": "[encoded data removed]",
      "text/plain": [
       "<matplotlib.figure.Figure at 0x1a0d2d8898>"
      ]
     },
     "metadata": {},
     "output_type": "display_data"
    }
   ],
   "source": [
    "lrmodel = LogisticRegression(C=3.5)\n",
    "X_train, X_test, y_train, y_test = train_test_split(new_x2, train_y, test_size = 0.3,random_state=0)\n",
    "lrmodel.fit(X_train,y_train)                           \n",
    "probs = lrmodel.predict_proba(X_test)\n",
    "preds = probs[:,1]\n",
    "fpr, tpr, threshold = metrics.roc_curve(y_test, preds)\n",
    "roc_auc = metrics.auc(fpr, tpr)\n",
    "print('AUC =',roc_auc)       # 0.881069428452\n",
    "\n",
    "# method I: plt\n",
    "import matplotlib.pyplot as plt\n",
    "plt.title('Receiver Operating Characteristic')\n",
    "plt.plot(fpr, tpr, 'b', label = 'AUC = %0.2f' % roc_auc)\n",
    "plt.legend(loc = 'lower right')\n",
    "plt.plot([0, 1], [0, 1],'r--')\n",
    "plt.xlim([0, 1])\n",
    "plt.ylim([0, 1])\n",
    "plt.ylabel('True Positive Rate')\n",
    "plt.xlabel('False Positive Rate')\n",
    "plt.show()"
   ]
  },
  {
   "cell_type": "markdown",
   "metadata": {},
   "source": [
    "# Random Forest"
   ]
  },
  {
   "cell_type": "code",
   "execution_count": 62,
   "metadata": {
    "collapsed": true
   },
   "outputs": [],
   "source": [
    "clf = RandomForestClassifier()    # initial model with no parameter\n",
    "clf = clf.fit(train_x, train_y)  "
   ]
  },
  {
   "cell_type": "code",
   "execution_count": 63,
   "metadata": {},
   "outputs": [
    {
     "name": "stdout",
     "output_type": "stream",
     "text": [
      "AUC = 0.799255807607\n"
     ]
    },
    {
     "data": {
      "image/png": "[encoded data removed]",
      "text/plain": [
       "<matplotlib.figure.Figure at 0x1a0a64ee80>"
      ]
     },
     "metadata": {},
     "output_type": "display_data"
    }
   ],
   "source": [
    "X_train, X_test, y_train, y_test = train_test_split(train_x, train_y, test_size = 0.3,random_state=0)\n",
    "clf.fit(X_train, y_train)                                 \n",
    "probs = clf.predict_proba(X_test)\n",
    "preds = probs[:,1]\n",
    "fpr, tpr, threshold = metrics.roc_curve(y_test, preds)\n",
    "roc_auc = metrics.auc(fpr, tpr)\n",
    "print('AUC =',roc_auc)          # 0.798039419179\n",
    "# method I: plt\n",
    "import matplotlib.pyplot as plt\n",
    "plt.title('Receiver Operating Characteristic')\n",
    "plt.plot(fpr, tpr, 'b', label = 'AUC = %0.2f' % roc_auc)\n",
    "plt.legend(loc = 'lower right')\n",
    "plt.plot([0, 1], [0, 1],'r--')\n",
    "plt.xlim([0, 1])\n",
    "plt.ylim([0, 1])\n",
    "plt.ylabel('True Positive Rate')\n",
    "plt.xlabel('False Positive Rate')\n",
    "plt.show()"
   ]
  },
  {
   "cell_type": "code",
   "execution_count": 85,
   "metadata": {
    "scrolled": true
   },
   "outputs": [
    {
     "name": "stdout",
     "output_type": "stream",
     "text": [
      "{'n_estimators': 400, 'min_samples_split': 8, 'min_samples_leaf': 1, 'max_features': 0.8, 'max_depth': 20}\n"
     ]
    }
   ],
   "source": [
    "# Tuning and Using the best parameters to make predictions\n",
    "clf = RandomForestClassifier()\n",
    "clf = clf.fit(train_x.values, train_y.values)\n",
    "params = {'max_features': [0.4,0.8], 'n_estimators':[300,400],\n",
    "          'min_samples_leaf':[1,2,4],'min_samples_split':[8,12],'max_depth':[7,15,20]}\n",
    "RFgrid = RandomizedSearchCV(estimator = clf, param_distributions  = params, cv=5, scoring = 'accuracy',return_train_score=True)\n",
    "RFgrid.fit(train_x.values,train_y.values)\n",
    "print(RFgrid.best_params_)"
   ]
  },
  {
   "cell_type": "code",
   "execution_count": 86,
   "metadata": {},
   "outputs": [
    {
     "data": {
      "text/plain": [
       "0.86795309136611765"
      ]
     },
     "execution_count": 86,
     "metadata": {},
     "output_type": "execute_result"
    }
   ],
   "source": [
    "RFmodel = RandomForestClassifier(max_depth = 20, max_features=0.8, min_samples_leaf = 1, min_samples_split = 8, n_estimators = 400)\n",
    "score = cross_val_score(RFmodel,train_x.values,train_y.values, cv = 10, scoring = 'roc_auc')\n",
    "score.mean()\n",
    "\n",
    "# predict using random forests\n",
    "RFmodel.fit(train_x.values, train_y.values)\n",
    "prods = RFmodel.predict_proba(test_x)\n",
    "preds_rf = prods[:,1]"
   ]
  },
  {
   "cell_type": "code",
   "execution_count": 90,
   "metadata": {},
   "outputs": [
    {
     "name": "stdout",
     "output_type": "stream",
     "text": [
      "AUC = 0.854655014539\n"
     ]
    },
    {
     "data": {
      "image/png": "[encoded data removed]",
      "text/plain": [
       "<matplotlib.figure.Figure at 0x1a08c209b0>"
      ]
     },
     "metadata": {},
     "output_type": "display_data"
    }
   ],
   "source": [
    "# final Random Forest ROC plot\n",
    "RFmodel = RandomForestClassifier(max_depth = 20, max_features=0.8, min_samples_leaf = 1, min_samples_split = 8, n_estimators = 400)\n",
    "X_train, X_test, y_train, y_test = train_test_split(train_x, train_y, test_size = 0.3,random_state=0)\n",
    "\n",
    "RFmodel.fit(X_train, y_train)                                 \n",
    "probs = RFmodel.predict_proba(X_test)\n",
    "preds = probs[:,1]\n",
    "fpr, tpr, threshold = metrics.roc_curve(y_test, preds)\n",
    "roc_auc = metrics.auc(fpr, tpr)\n",
    "print('AUC =', roc_auc)\n",
    "# method I: plt\n",
    "import matplotlib.pyplot as plt\n",
    "plt.title('Receiver Operating Characteristic')\n",
    "plt.plot(fpr, tpr, 'b', label = 'AUC = %0.2f' % roc_auc)\n",
    "plt.legend(loc = 'lower right')\n",
    "plt.plot([0, 1], [0, 1],'r--')\n",
    "plt.xlim([0, 1])\n",
    "plt.ylim([0, 1])\n",
    "plt.ylabel('True Positive Rate')\n",
    "plt.xlabel('False Positive Rate')\n",
    "plt.show()"
   ]
  },
  {
   "cell_type": "markdown",
   "metadata": {
    "collapsed": true
   },
   "source": [
    "# Gradient Boosting"
   ]
  },
  {
   "cell_type": "code",
   "execution_count": 64,
   "metadata": {},
   "outputs": [
    {
     "data": {
      "text/plain": [
       "GradientBoostingClassifier(criterion='friedman_mse', init=None,\n",
       "              learning_rate=0.1, loss='deviance', max_depth=3,\n",
       "              max_features=None, max_leaf_nodes=None,\n",
       "              min_impurity_decrease=0.0, min_impurity_split=None,\n",
       "              min_samples_leaf=1, min_samples_split=2,\n",
       "              min_weight_fraction_leaf=0.0, n_estimators=100,\n",
       "              presort='auto', random_state=None, subsample=1.0, verbose=0,\n",
       "              warm_start=False)"
      ]
     },
     "execution_count": 64,
     "metadata": {},
     "output_type": "execute_result"
    }
   ],
   "source": [
    "clf_gb = GradientBoostingClassifier()\n",
    "clf_gb.fit(train_x, train_y)     # initial model"
   ]
  },
  {
   "cell_type": "code",
   "execution_count": 33,
   "metadata": {},
   "outputs": [
    {
     "name": "stdout",
     "output_type": "stream",
     "text": [
      "AUC =  0.768721539816\n"
     ]
    },
    {
     "data": {
      "image/png": "[encoded data removed]",
      "text/plain": [
       "<matplotlib.figure.Figure at 0x107e93ba8>"
      ]
     },
     "metadata": {},
     "output_type": "display_data"
    }
   ],
   "source": [
    "X_train, X_test, y_train, y_test = train_test_split(train_x, train_y, test_size = 0.3,random_state=0)\n",
    "clf_gb.fit(X_train, y_train) \n",
    "probs = clf_gb.predict_proba(X_test)\n",
    "preds = probs[:,1]\n",
    "fpr, tpr, threshold = metrics.roc_curve(y_test, preds)\n",
    "roc_auc = metrics.auc(fpr, tpr)\n",
    "print('AUC = ',roc_auc )     \n",
    "# method I: plt\n",
    "import matplotlib.pyplot as plt\n",
    "plt.title('Receiver Operating Characteristic')\n",
    "plt.plot(fpr, tpr, 'b', label = 'AUC = %0.2f' % roc_auc)\n",
    "plt.legend(loc = 'lower right')\n",
    "plt.plot([0, 1], [0, 1],'r--')\n",
    "plt.xlim([0, 1])\n",
    "plt.ylim([0, 1])\n",
    "plt.ylabel('True Positive Rate')\n",
    "plt.xlabel('False Positive Rate')\n",
    "plt.show()"
   ]
  },
  {
   "cell_type": "code",
   "execution_count": 48,
   "metadata": {},
   "outputs": [
    {
     "data": {
      "text/plain": [
       "RandomizedSearchCV(cv=5, error_score='raise',\n",
       "          estimator=GradientBoostingClassifier(criterion='friedman_mse', init=None,\n",
       "              learning_rate=0.1, loss='deviance', max_depth=3,\n",
       "              max_features=None, max_leaf_nodes=None,\n",
       "              min_impurity_decrease=0.0, min_impurity_split=None,\n",
       "              min_samples_leaf=1, min_samples_split=2,\n",
       "              min_weight_fraction_leaf=0.0, n_estimators=100,\n",
       "              presort='auto', random_state=None, subsample=1.0, verbose=0,\n",
       "              warm_start=False),\n",
       "          fit_params=None, iid=True, n_iter=10, n_jobs=1,\n",
       "          param_distributions={'max_depth': [5, 10, 15], 'n_estimators': [20, 30, 40, 50]},\n",
       "          pre_dispatch='2*n_jobs', random_state=None, refit=True,\n",
       "          return_train_score=True, scoring='accuracy', verbose=0)"
      ]
     },
     "execution_count": 48,
     "metadata": {},
     "output_type": "execute_result"
    }
   ],
   "source": [
    "# Hyperparameter Optimization\n",
    "params = {'max_depth':[5,10,15],'n_estimators':[20,30,40,50]}\n",
    "GBgrid = RandomizedSearchCV(estimator = clf_gb, param_distributions = params, cv=5, scoring = 'accuracy',return_train_score=True)\n",
    "GBgrid.fit(train_x,train_y)\n",
    "GBgrid.best_params_"
   ]
  },
  {
   "cell_type": "code",
   "execution_count": 65,
   "metadata": {},
   "outputs": [
    {
     "data": {
      "text/plain": [
       "0.84802305636358033"
      ]
     },
     "execution_count": 65,
     "metadata": {},
     "output_type": "execute_result"
    }
   ],
   "source": [
    "GBmodel = GradientBoostingClassifier(max_depth = 10,n_estimators = 40)\n",
    "score = cross_val_score(GBmodel,train_x,train_y, cv = 10, scoring = 'roc_auc')      \n",
    "score.mean()   # 0.84802305636358033\n",
    "\n",
    "# predict using trained gradient boosting classifier\n",
    "GBmodel.fit(train_x.values, train_y.values)\n",
    "y_pred_class = GBmodel.predict_proba(test_x)\n",
    "preds_gb = y_pred_class[:,1]"
   ]
  },
  {
   "cell_type": "code",
   "execution_count": 87,
   "metadata": {},
   "outputs": [
    {
     "name": "stdout",
     "output_type": "stream",
     "text": [
      "AUC =  0.836208582592\n"
     ]
    },
    {
     "data": {
      "image/png": "[encoded data removed]",
      "text/plain": [
       "<matplotlib.figure.Figure at 0x1a0a4ca390>"
      ]
     },
     "metadata": {},
     "output_type": "display_data"
    }
   ],
   "source": [
    "GBmodel = GradientBoostingClassifier(max_depth = 10,n_estimators = 40)\n",
    "X_train, X_test, y_train, y_test = train_test_split(train_x, train_y, test_size = 0.3,random_state=0)\n",
    "GBmodel.fit(X_train, y_train) \n",
    "probs = GBmodel.predict_proba(X_test)\n",
    "preds = probs[:,1]\n",
    "fpr, tpr, threshold = metrics.roc_curve(y_test, preds)\n",
    "roc_auc = metrics.auc(fpr, tpr)\n",
    "print('AUC = ',roc_auc )\n",
    "# method I: plt\n",
    "import matplotlib.pyplot as plt\n",
    "plt.title('Receiver Operating Characteristic')\n",
    "plt.plot(fpr, tpr, 'b', label = 'AUC = %0.2f' % roc_auc)\n",
    "plt.legend(loc = 'lower right')\n",
    "plt.plot([0, 1], [0, 1],'r--')\n",
    "plt.xlim([0, 1])\n",
    "plt.ylim([0, 1])\n",
    "plt.ylabel('True Positive Rate')\n",
    "plt.xlabel('False Positive Rate')\n",
    "plt.show()"
   ]
  },
  {
   "cell_type": "markdown",
   "metadata": {
    "collapsed": true
   },
   "source": [
    "# Ensemble VotingClassifer"
   ]
  },
  {
   "cell_type": "code",
   "execution_count": 50,
   "metadata": {},
   "outputs": [
    {
     "data": {
      "text/plain": [
       "GradientBoostingClassifier(criterion='friedman_mse', init=None,\n",
       "              learning_rate=0.1, loss='deviance', max_depth=10,\n",
       "              max_features=None, max_leaf_nodes=None,\n",
       "              min_impurity_decrease=0.0, min_impurity_split=None,\n",
       "              min_samples_leaf=1, min_samples_split=2,\n",
       "              min_weight_fraction_leaf=0.0, n_estimators=40,\n",
       "              presort='auto', random_state=None, subsample=1.0, verbose=0,\n",
       "              warm_start=False)"
      ]
     },
     "execution_count": 50,
     "metadata": {},
     "output_type": "execute_result"
    }
   ],
   "source": [
    "lr = LogisticRegression(C=3.5)\n",
    "lrmodel = lr.fit(new_x2,train_y)\n",
    "\n",
    "RFmodel = RandomForestClassifier(max_depth = 20, max_features=0.8, min_samples_leaf = 1, min_samples_split = 8, n_estimators = 400)\n",
    "RFmodel.fit(train_x.values, train_y.values)\n",
    "\n",
    "GBmodel = GradientBoostingClassifier(max_depth = 10,n_estimators = 40)\n",
    "GBmodel.fit(train_x.values, train_y.values)"
   ]
  },
  {
   "cell_type": "code",
   "execution_count": 67,
   "metadata": {},
   "outputs": [
    {
     "data": {
      "text/plain": [
       "0.86448917800081104"
      ]
     },
     "execution_count": 67,
     "metadata": {},
     "output_type": "execute_result"
    }
   ],
   "source": [
    "eclf = VotingClassifier(estimators=[('RF',RFmodel), ('LR',lrmodel),('gradient',GBmodel)],\n",
    "                        voting='soft',weights=[1,1,1])\n",
    "\n",
    "eclf.fit(train_x,train_y)\n",
    "score = cross_val_score(eclf, train_x, train_y, cv=5, scoring = 'roc_auc')\n",
    "score.mean()"
   ]
  },
  {
   "cell_type": "code",
   "execution_count": 68,
   "metadata": {},
   "outputs": [
    {
     "name": "stdout",
     "output_type": "stream",
     "text": [
      "AUC =  0.859545788888\n"
     ]
    },
    {
     "data": {
      "image/png": "[encoded data removed]",
      "text/plain": [
       "<matplotlib.figure.Figure at 0x1a0a702f28>"
      ]
     },
     "metadata": {},
     "output_type": "display_data"
    }
   ],
   "source": [
    "X_train, X_test, y_train, y_test = train_test_split(train_x, train_y, test_size = 0.3,random_state=0)\n",
    "eclf.fit(X_train, y_train) \n",
    "probs = eclf.predict_proba(X_test)\n",
    "preds = probs[:,1]\n",
    "fpr, tpr, threshold = metrics.roc_curve(y_test, preds)\n",
    "roc_auc = metrics.auc(fpr, tpr)\n",
    "print('AUC = ',roc_auc )   # \n",
    "\n",
    "# method I: plt\n",
    "import matplotlib.pyplot as plt\n",
    "plt.title('Receiver Operating Characteristic')\n",
    "plt.plot(fpr, tpr, 'b', label = 'AUC = %0.2f' % roc_auc)\n",
    "plt.legend(loc = 'lower right')\n",
    "plt.plot([0, 1], [0, 1],'r--')\n",
    "plt.xlim([0, 1])\n",
    "plt.ylim([0, 1])\n",
    "plt.ylabel('True Positive Rate')\n",
    "plt.xlabel('False Positive Rate')\n",
    "plt.show()"
   ]
  },
  {
   "cell_type": "markdown",
   "metadata": {},
   "source": [
    "# Final Submission"
   ]
  },
  {
   "cell_type": "code",
   "execution_count": 9,
   "metadata": {
    "collapsed": true
   },
   "outputs": [],
   "source": [
    "# Logistic \n",
    "lr = LogisticRegression(C=3.5)\n",
    "lrmodel = lr.fit(new_x2,train_y)\n",
    "probs = lrmodel.predict_proba(newtest_x2)\n",
    "preds_logistic = probs[:,1]\n",
    "\n",
    "# random forest classifier\n",
    "RFmodel = RandomForestClassifier(max_depth = 20, max_features=0.8, min_samples_leaf = 1, min_samples_split = 8, n_estimators = 400)\n",
    "RFmodel.fit(train_x.values, train_y.values)\n",
    "prods = RFmodel.predict_proba(test_x)\n",
    "preds_rf = prods[:,1]\n",
    "\n",
    "# gradient boosting classifier \n",
    "GBmodel = GradientBoostingClassifier(max_depth = 10,n_estimators = 40)\n",
    "GBmodel.fit(train_x.values, train_y.values)\n",
    "y_pred_class = GBmodel.predict_proba(test_x)\n",
    "preds_gb = y_pred_class[:,1]\n",
    "\n",
    "Action = (preds_logistic + preds_rf + preds_gb)/3\n",
    "id_ = list(range(1,58922))\n",
    "df = pd.DataFrame({'Id':id_,'Action':Action})\n",
    "df.set_index('Id', inplace=True)\n",
    "df.to_csv('FinalSubmission.csv')      # 0.8956"
   ]
  },
  {
   "cell_type": "code",
   "execution_count": 2,
   "metadata": {},
   "outputs": [
    {
     "data": {
      "text/html": [
       "<div>\n",
       "<style>\n",
       "    .dataframe thead tr:only-child th {\n",
       "        text-align: right;\n",
       "    }\n",
       "\n",
       "    .dataframe thead th {\n",
       "        text-align: left;\n",
       "    }\n",
       "\n",
       "    .dataframe tbody tr th {\n",
       "        vertical-align: top;\n",
       "    }\n",
       "</style>\n",
       "<table border=\"1\" class=\"dataframe\">\n",
       "  <thead>\n",
       "    <tr style=\"text-align: right;\">\n",
       "      <th></th>\n",
       "      <th>Id</th>\n",
       "      <th>Action</th>\n",
       "    </tr>\n",
       "  </thead>\n",
       "  <tbody>\n",
       "    <tr>\n",
       "      <th>0</th>\n",
       "      <td>1</td>\n",
       "      <td>0.951654</td>\n",
       "    </tr>\n",
       "    <tr>\n",
       "      <th>1</th>\n",
       "      <td>2</td>\n",
       "      <td>0.975694</td>\n",
       "    </tr>\n",
       "    <tr>\n",
       "      <th>2</th>\n",
       "      <td>3</td>\n",
       "      <td>0.989865</td>\n",
       "    </tr>\n",
       "    <tr>\n",
       "      <th>3</th>\n",
       "      <td>4</td>\n",
       "      <td>0.983111</td>\n",
       "    </tr>\n",
       "    <tr>\n",
       "      <th>4</th>\n",
       "      <td>5</td>\n",
       "      <td>0.993116</td>\n",
       "    </tr>\n",
       "    <tr>\n",
       "      <th>5</th>\n",
       "      <td>6</td>\n",
       "      <td>0.995916</td>\n",
       "    </tr>\n",
       "    <tr>\n",
       "      <th>6</th>\n",
       "      <td>7</td>\n",
       "      <td>0.962978</td>\n",
       "    </tr>\n",
       "    <tr>\n",
       "      <th>7</th>\n",
       "      <td>8</td>\n",
       "      <td>0.995845</td>\n",
       "    </tr>\n",
       "    <tr>\n",
       "      <th>8</th>\n",
       "      <td>9</td>\n",
       "      <td>0.904272</td>\n",
       "    </tr>\n",
       "    <tr>\n",
       "      <th>9</th>\n",
       "      <td>10</td>\n",
       "      <td>0.974563</td>\n",
       "    </tr>\n",
       "    <tr>\n",
       "      <th>10</th>\n",
       "      <td>11</td>\n",
       "      <td>0.940711</td>\n",
       "    </tr>\n",
       "    <tr>\n",
       "      <th>11</th>\n",
       "      <td>12</td>\n",
       "      <td>0.988558</td>\n",
       "    </tr>\n",
       "    <tr>\n",
       "      <th>12</th>\n",
       "      <td>13</td>\n",
       "      <td>0.939568</td>\n",
       "    </tr>\n",
       "    <tr>\n",
       "      <th>13</th>\n",
       "      <td>14</td>\n",
       "      <td>0.905725</td>\n",
       "    </tr>\n",
       "    <tr>\n",
       "      <th>14</th>\n",
       "      <td>15</td>\n",
       "      <td>0.976187</td>\n",
       "    </tr>\n",
       "    <tr>\n",
       "      <th>15</th>\n",
       "      <td>16</td>\n",
       "      <td>0.957019</td>\n",
       "    </tr>\n",
       "    <tr>\n",
       "      <th>16</th>\n",
       "      <td>17</td>\n",
       "      <td>0.824626</td>\n",
       "    </tr>\n",
       "    <tr>\n",
       "      <th>17</th>\n",
       "      <td>18</td>\n",
       "      <td>0.916144</td>\n",
       "    </tr>\n",
       "    <tr>\n",
       "      <th>18</th>\n",
       "      <td>19</td>\n",
       "      <td>0.991356</td>\n",
       "    </tr>\n",
       "    <tr>\n",
       "      <th>19</th>\n",
       "      <td>20</td>\n",
       "      <td>0.987705</td>\n",
       "    </tr>\n",
       "    <tr>\n",
       "      <th>20</th>\n",
       "      <td>21</td>\n",
       "      <td>0.997023</td>\n",
       "    </tr>\n",
       "    <tr>\n",
       "      <th>21</th>\n",
       "      <td>22</td>\n",
       "      <td>0.994216</td>\n",
       "    </tr>\n",
       "    <tr>\n",
       "      <th>22</th>\n",
       "      <td>23</td>\n",
       "      <td>0.976678</td>\n",
       "    </tr>\n",
       "    <tr>\n",
       "      <th>23</th>\n",
       "      <td>24</td>\n",
       "      <td>0.970837</td>\n",
       "    </tr>\n",
       "    <tr>\n",
       "      <th>24</th>\n",
       "      <td>25</td>\n",
       "      <td>0.988184</td>\n",
       "    </tr>\n",
       "    <tr>\n",
       "      <th>25</th>\n",
       "      <td>26</td>\n",
       "      <td>0.913163</td>\n",
       "    </tr>\n",
       "    <tr>\n",
       "      <th>26</th>\n",
       "      <td>27</td>\n",
       "      <td>0.932929</td>\n",
       "    </tr>\n",
       "    <tr>\n",
       "      <th>27</th>\n",
       "      <td>28</td>\n",
       "      <td>0.968312</td>\n",
       "    </tr>\n",
       "    <tr>\n",
       "      <th>28</th>\n",
       "      <td>29</td>\n",
       "      <td>0.982823</td>\n",
       "    </tr>\n",
       "    <tr>\n",
       "      <th>29</th>\n",
       "      <td>30</td>\n",
       "      <td>0.946513</td>\n",
       "    </tr>\n",
       "    <tr>\n",
       "      <th>...</th>\n",
       "      <td>...</td>\n",
       "      <td>...</td>\n",
       "    </tr>\n",
       "    <tr>\n",
       "      <th>58891</th>\n",
       "      <td>58892</td>\n",
       "      <td>0.979012</td>\n",
       "    </tr>\n",
       "    <tr>\n",
       "      <th>58892</th>\n",
       "      <td>58893</td>\n",
       "      <td>0.931421</td>\n",
       "    </tr>\n",
       "    <tr>\n",
       "      <th>58893</th>\n",
       "      <td>58894</td>\n",
       "      <td>0.989220</td>\n",
       "    </tr>\n",
       "    <tr>\n",
       "      <th>58894</th>\n",
       "      <td>58895</td>\n",
       "      <td>0.865457</td>\n",
       "    </tr>\n",
       "    <tr>\n",
       "      <th>58895</th>\n",
       "      <td>58896</td>\n",
       "      <td>0.971254</td>\n",
       "    </tr>\n",
       "    <tr>\n",
       "      <th>58896</th>\n",
       "      <td>58897</td>\n",
       "      <td>0.891720</td>\n",
       "    </tr>\n",
       "    <tr>\n",
       "      <th>58897</th>\n",
       "      <td>58898</td>\n",
       "      <td>0.995211</td>\n",
       "    </tr>\n",
       "    <tr>\n",
       "      <th>58898</th>\n",
       "      <td>58899</td>\n",
       "      <td>0.992933</td>\n",
       "    </tr>\n",
       "    <tr>\n",
       "      <th>58899</th>\n",
       "      <td>58900</td>\n",
       "      <td>0.968219</td>\n",
       "    </tr>\n",
       "    <tr>\n",
       "      <th>58900</th>\n",
       "      <td>58901</td>\n",
       "      <td>0.992621</td>\n",
       "    </tr>\n",
       "    <tr>\n",
       "      <th>58901</th>\n",
       "      <td>58902</td>\n",
       "      <td>0.981335</td>\n",
       "    </tr>\n",
       "    <tr>\n",
       "      <th>58902</th>\n",
       "      <td>58903</td>\n",
       "      <td>0.730061</td>\n",
       "    </tr>\n",
       "    <tr>\n",
       "      <th>58903</th>\n",
       "      <td>58904</td>\n",
       "      <td>0.980549</td>\n",
       "    </tr>\n",
       "    <tr>\n",
       "      <th>58904</th>\n",
       "      <td>58905</td>\n",
       "      <td>0.987894</td>\n",
       "    </tr>\n",
       "    <tr>\n",
       "      <th>58905</th>\n",
       "      <td>58906</td>\n",
       "      <td>0.993205</td>\n",
       "    </tr>\n",
       "    <tr>\n",
       "      <th>58906</th>\n",
       "      <td>58907</td>\n",
       "      <td>0.980449</td>\n",
       "    </tr>\n",
       "    <tr>\n",
       "      <th>58907</th>\n",
       "      <td>58908</td>\n",
       "      <td>0.913819</td>\n",
       "    </tr>\n",
       "    <tr>\n",
       "      <th>58908</th>\n",
       "      <td>58909</td>\n",
       "      <td>0.991501</td>\n",
       "    </tr>\n",
       "    <tr>\n",
       "      <th>58909</th>\n",
       "      <td>58910</td>\n",
       "      <td>0.266992</td>\n",
       "    </tr>\n",
       "    <tr>\n",
       "      <th>58910</th>\n",
       "      <td>58911</td>\n",
       "      <td>0.980928</td>\n",
       "    </tr>\n",
       "    <tr>\n",
       "      <th>58911</th>\n",
       "      <td>58912</td>\n",
       "      <td>0.997311</td>\n",
       "    </tr>\n",
       "    <tr>\n",
       "      <th>58912</th>\n",
       "      <td>58913</td>\n",
       "      <td>0.981272</td>\n",
       "    </tr>\n",
       "    <tr>\n",
       "      <th>58913</th>\n",
       "      <td>58914</td>\n",
       "      <td>0.976466</td>\n",
       "    </tr>\n",
       "    <tr>\n",
       "      <th>58914</th>\n",
       "      <td>58915</td>\n",
       "      <td>0.998112</td>\n",
       "    </tr>\n",
       "    <tr>\n",
       "      <th>58915</th>\n",
       "      <td>58916</td>\n",
       "      <td>0.991591</td>\n",
       "    </tr>\n",
       "    <tr>\n",
       "      <th>58916</th>\n",
       "      <td>58917</td>\n",
       "      <td>0.984231</td>\n",
       "    </tr>\n",
       "    <tr>\n",
       "      <th>58917</th>\n",
       "      <td>58918</td>\n",
       "      <td>0.924101</td>\n",
       "    </tr>\n",
       "    <tr>\n",
       "      <th>58918</th>\n",
       "      <td>58919</td>\n",
       "      <td>0.970241</td>\n",
       "    </tr>\n",
       "    <tr>\n",
       "      <th>58919</th>\n",
       "      <td>58920</td>\n",
       "      <td>0.903406</td>\n",
       "    </tr>\n",
       "    <tr>\n",
       "      <th>58920</th>\n",
       "      <td>58921</td>\n",
       "      <td>0.991411</td>\n",
       "    </tr>\n",
       "  </tbody>\n",
       "</table>\n",
       "<p>58921 rows × 2 columns</p>\n",
       "</div>"
      ],
      "text/plain": [
       "          Id    Action\n",
       "0          1  0.951654\n",
       "1          2  0.975694\n",
       "2          3  0.989865\n",
       "3          4  0.983111\n",
       "4          5  0.993116\n",
       "5          6  0.995916\n",
       "6          7  0.962978\n",
       "7          8  0.995845\n",
       "8          9  0.904272\n",
       "9         10  0.974563\n",
       "10        11  0.940711\n",
       "11        12  0.988558\n",
       "12        13  0.939568\n",
       "13        14  0.905725\n",
       "14        15  0.976187\n",
       "15        16  0.957019\n",
       "16        17  0.824626\n",
       "17        18  0.916144\n",
       "18        19  0.991356\n",
       "19        20  0.987705\n",
       "20        21  0.997023\n",
       "21        22  0.994216\n",
       "22        23  0.976678\n",
       "23        24  0.970837\n",
       "24        25  0.988184\n",
       "25        26  0.913163\n",
       "26        27  0.932929\n",
       "27        28  0.968312\n",
       "28        29  0.982823\n",
       "29        30  0.946513\n",
       "...      ...       ...\n",
       "58891  58892  0.979012\n",
       "58892  58893  0.931421\n",
       "58893  58894  0.989220\n",
       "58894  58895  0.865457\n",
       "58895  58896  0.971254\n",
       "58896  58897  0.891720\n",
       "58897  58898  0.995211\n",
       "58898  58899  0.992933\n",
       "58899  58900  0.968219\n",
       "58900  58901  0.992621\n",
       "58901  58902  0.981335\n",
       "58902  58903  0.730061\n",
       "58903  58904  0.980549\n",
       "58904  58905  0.987894\n",
       "58905  58906  0.993205\n",
       "58906  58907  0.980449\n",
       "58907  58908  0.913819\n",
       "58908  58909  0.991501\n",
       "58909  58910  0.266992\n",
       "58910  58911  0.980928\n",
       "58911  58912  0.997311\n",
       "58912  58913  0.981272\n",
       "58913  58914  0.976466\n",
       "58914  58915  0.998112\n",
       "58915  58916  0.991591\n",
       "58916  58917  0.984231\n",
       "58917  58918  0.924101\n",
       "58918  58919  0.970241\n",
       "58919  58920  0.903406\n",
       "58920  58921  0.991411\n",
       "\n",
       "[58921 rows x 2 columns]"
      ]
     },
     "execution_count": 2,
     "metadata": {},
     "output_type": "execute_result"
    }
   ],
   "source": [
    "pd.read_csv('FinalSubmission.csv')"
   ]
  }
 ],
 "metadata": {
  "kernelspec": {
   "display_name": "Python 3",
   "language": "python",
   "name": "python3"
  },
  "language_info": {
   "codemirror_mode": {
    "name": "ipython",
    "version": 3
   },
   "file_extension": ".py",
   "mimetype": "text/x-python",
   "name": "python",
   "nbconvert_exporter": "python",
   "pygments_lexer": "ipython3",
   "version": "3.6.1"
  }
 },
 "nbformat": 4,
 "nbformat_minor": 2
}
